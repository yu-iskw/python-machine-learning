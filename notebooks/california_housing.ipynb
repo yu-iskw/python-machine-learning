{
 "cells": [
  {
   "cell_type": "code",
   "execution_count": 1,
   "metadata": {
    "ExecuteTime": {
     "end_time": "2018-12-13T05:56:19.136958Z",
     "start_time": "2018-12-13T05:56:17.144652Z"
    }
   },
   "outputs": [
    {
     "name": "stderr",
     "output_type": "stream",
     "text": [
      "/usr/local/anaconda3/envs/python-machine-learning/lib/python3.6/site-packages/sklearn/ensemble/weight_boosting.py:29: DeprecationWarning: numpy.core.umath_tests is an internal NumPy module and should not be imported. It will be removed in a future NumPy release.\n",
      "  from numpy.core.umath_tests import inner1d\n"
     ]
    }
   ],
   "source": [
    "from sklearn.datasets import fetch_california_housing \n",
    "from sklearn import preprocessing\n",
    "from sklearn import model_selection\n",
    "from sklearn import linear_model\n",
    "from sklearn import metrics\n",
    "from sklearn import ensemble\n",
    "import pandas as pd\n",
    "from sklearn.pipeline import Pipeline, FeatureUnion\n",
    "from mlxtend.feature_selection import ColumnSelector\n",
    "from skopt import BayesSearchCV"
   ]
  },
  {
   "cell_type": "code",
   "execution_count": 2,
   "metadata": {
    "ExecuteTime": {
     "end_time": "2018-12-13T05:56:19.164119Z",
     "start_time": "2018-12-13T05:56:19.140410Z"
    }
   },
   "outputs": [],
   "source": [
    "data = fetch_california_housing()"
   ]
  },
  {
   "cell_type": "code",
   "execution_count": 3,
   "metadata": {
    "ExecuteTime": {
     "end_time": "2018-12-13T05:56:19.241583Z",
     "start_time": "2018-12-13T05:56:19.177237Z"
    }
   },
   "outputs": [
    {
     "data": {
      "text/html": [
       "<div>\n",
       "<style scoped>\n",
       "    .dataframe tbody tr th:only-of-type {\n",
       "        vertical-align: middle;\n",
       "    }\n",
       "\n",
       "    .dataframe tbody tr th {\n",
       "        vertical-align: top;\n",
       "    }\n",
       "\n",
       "    .dataframe thead th {\n",
       "        text-align: right;\n",
       "    }\n",
       "</style>\n",
       "<table border=\"1\" class=\"dataframe\">\n",
       "  <thead>\n",
       "    <tr style=\"text-align: right;\">\n",
       "      <th></th>\n",
       "      <th>MedInc</th>\n",
       "      <th>HouseAge</th>\n",
       "      <th>AveRooms</th>\n",
       "      <th>AveBedrms</th>\n",
       "      <th>Population</th>\n",
       "      <th>AveOccup</th>\n",
       "      <th>Latitude</th>\n",
       "      <th>Longitude</th>\n",
       "    </tr>\n",
       "  </thead>\n",
       "  <tbody>\n",
       "    <tr>\n",
       "      <th>0</th>\n",
       "      <td>8.3252</td>\n",
       "      <td>41.0</td>\n",
       "      <td>6.984127</td>\n",
       "      <td>1.023810</td>\n",
       "      <td>322.0</td>\n",
       "      <td>2.555556</td>\n",
       "      <td>37.88</td>\n",
       "      <td>-122.23</td>\n",
       "    </tr>\n",
       "    <tr>\n",
       "      <th>1</th>\n",
       "      <td>8.3014</td>\n",
       "      <td>21.0</td>\n",
       "      <td>6.238137</td>\n",
       "      <td>0.971880</td>\n",
       "      <td>2401.0</td>\n",
       "      <td>2.109842</td>\n",
       "      <td>37.86</td>\n",
       "      <td>-122.22</td>\n",
       "    </tr>\n",
       "    <tr>\n",
       "      <th>2</th>\n",
       "      <td>7.2574</td>\n",
       "      <td>52.0</td>\n",
       "      <td>8.288136</td>\n",
       "      <td>1.073446</td>\n",
       "      <td>496.0</td>\n",
       "      <td>2.802260</td>\n",
       "      <td>37.85</td>\n",
       "      <td>-122.24</td>\n",
       "    </tr>\n",
       "    <tr>\n",
       "      <th>3</th>\n",
       "      <td>5.6431</td>\n",
       "      <td>52.0</td>\n",
       "      <td>5.817352</td>\n",
       "      <td>1.073059</td>\n",
       "      <td>558.0</td>\n",
       "      <td>2.547945</td>\n",
       "      <td>37.85</td>\n",
       "      <td>-122.25</td>\n",
       "    </tr>\n",
       "    <tr>\n",
       "      <th>4</th>\n",
       "      <td>3.8462</td>\n",
       "      <td>52.0</td>\n",
       "      <td>6.281853</td>\n",
       "      <td>1.081081</td>\n",
       "      <td>565.0</td>\n",
       "      <td>2.181467</td>\n",
       "      <td>37.85</td>\n",
       "      <td>-122.25</td>\n",
       "    </tr>\n",
       "  </tbody>\n",
       "</table>\n",
       "</div>"
      ],
      "text/plain": [
       "   MedInc  HouseAge  AveRooms  AveBedrms  Population  AveOccup  Latitude  \\\n",
       "0  8.3252      41.0  6.984127   1.023810       322.0  2.555556     37.88   \n",
       "1  8.3014      21.0  6.238137   0.971880      2401.0  2.109842     37.86   \n",
       "2  7.2574      52.0  8.288136   1.073446       496.0  2.802260     37.85   \n",
       "3  5.6431      52.0  5.817352   1.073059       558.0  2.547945     37.85   \n",
       "4  3.8462      52.0  6.281853   1.081081       565.0  2.181467     37.85   \n",
       "\n",
       "   Longitude  \n",
       "0    -122.23  \n",
       "1    -122.22  \n",
       "2    -122.24  \n",
       "3    -122.25  \n",
       "4    -122.25  "
      ]
     },
     "execution_count": 3,
     "metadata": {},
     "output_type": "execute_result"
    }
   ],
   "source": [
    "df = pd.DataFrame(data=data.data, columns=data.feature_names, index=None)\n",
    "df.head()"
   ]
  },
  {
   "cell_type": "code",
   "execution_count": 4,
   "metadata": {
    "ExecuteTime": {
     "end_time": "2018-12-13T05:56:19.263452Z",
     "start_time": "2018-12-13T05:56:19.247391Z"
    }
   },
   "outputs": [
    {
     "name": "stderr",
     "output_type": "stream",
     "text": [
      "/usr/local/anaconda3/envs/python-machine-learning/lib/python3.6/site-packages/sklearn/model_selection/_split.py:2026: FutureWarning: From version 0.21, test_size will always complement train_size unless both are specified.\n",
      "  FutureWarning)\n"
     ]
    }
   ],
   "source": [
    "train_X, test_X, train_y, test_y = model_selection.train_test_split(df, data.target, train_size=0.5)"
   ]
  },
  {
   "cell_type": "code",
   "execution_count": 5,
   "metadata": {
    "ExecuteTime": {
     "end_time": "2018-12-13T05:56:19.287171Z",
     "start_time": "2018-12-13T05:56:19.268115Z"
    }
   },
   "outputs": [],
   "source": [
    "med_inc = Pipeline([\n",
    "    (\"selector\", ColumnSelector(cols=['MedInc'])),\n",
    "    (\"scaler\", preprocessing.StandardScaler()),\n",
    "])\n",
    "\n",
    "house_age = Pipeline([\n",
    "    (\"selector\", ColumnSelector(cols=['HouseAge'])),\n",
    "    (\"scaler\", preprocessing.StandardScaler()),\n",
    "])\n",
    "\n",
    "ave_rooms = Pipeline([\n",
    "    (\"selector\", ColumnSelector(cols=['AveRooms'])),\n",
    "    (\"scaler\", preprocessing.StandardScaler()),\n",
    "])\n",
    "\n",
    "ave_bedrms = Pipeline([\n",
    "    (\"selector\", ColumnSelector(cols=['AveBedrms'])),\n",
    "    (\"scaler\", preprocessing.StandardScaler()),\n",
    "])\n",
    "\n",
    "population = Pipeline([\n",
    "    (\"selector\", ColumnSelector(cols=['Population'])),\n",
    "    (\"scaler\", preprocessing.StandardScaler()),\n",
    "])\n",
    "\n",
    "ave_occup = Pipeline([\n",
    "    (\"selector\", ColumnSelector(cols=['AveOccup'])),\n",
    "    (\"scaler\", preprocessing.StandardScaler()),\n",
    "])\n",
    "\n",
    "latitude = Pipeline([\n",
    "    (\"selector\", ColumnSelector(cols=['Latitude'])),\n",
    "    (\"scaler\", preprocessing.StandardScaler()),\n",
    "])\n",
    "\n",
    "longitude = Pipeline([\n",
    "    (\"selector\", ColumnSelector(cols=['Longitude'])),\n",
    "    (\"scaler\", preprocessing.StandardScaler()),\n",
    "])"
   ]
  },
  {
   "cell_type": "code",
   "execution_count": 6,
   "metadata": {
    "ExecuteTime": {
     "end_time": "2018-12-13T05:56:19.301826Z",
     "start_time": "2018-12-13T05:56:19.291613Z"
    }
   },
   "outputs": [],
   "source": [
    "features = FeatureUnion([\n",
    "    ('med_inc', med_inc),\n",
    "    ('house_age', house_age),\n",
    "    ('ave_rooms', ave_rooms),\n",
    "    ('ave_bedrms', ave_bedrms),\n",
    "    ('population', population),\n",
    "    ('ave_occup', ave_occup),\n",
    "    ('latitude', latitude),\n",
    "    ('longitude', longitude),\n",
    "])"
   ]
  },
  {
   "cell_type": "code",
   "execution_count": 7,
   "metadata": {
    "ExecuteTime": {
     "end_time": "2018-12-13T05:56:19.342988Z",
     "start_time": "2018-12-13T05:56:19.305215Z"
    }
   },
   "outputs": [
    {
     "data": {
      "text/plain": [
       "array([[ 3.1453035 , -1.96819645,  0.56663288, ..., -0.02521668,\n",
       "        -0.89116512,  0.5931743 ],\n",
       "       [-0.83886423,  0.66474506, -0.06964893, ..., -0.05173696,\n",
       "         1.12852018, -0.46979039],\n",
       "       [-1.02775412, -0.45226043, -1.05568989, ...,  0.00591558,\n",
       "        -0.74623399,  0.65305963],\n",
       "       ...,\n",
       "       [-0.15687955,  1.2232478 , -0.11993659, ..., -0.05351869,\n",
       "         0.78255557, -1.16346219],\n",
       "       [ 1.80077402, -1.80862423,  1.24229514, ...,  0.02692304,\n",
       "        -0.75090919,  1.30680787],\n",
       "       [-1.35987404, -0.53204654, -0.37359129, ..., -0.05033411,\n",
       "        -0.89116512,  1.31179832]])"
      ]
     },
     "execution_count": 7,
     "metadata": {},
     "output_type": "execute_result"
    }
   ],
   "source": [
    "features.fit_transform(train_X)"
   ]
  },
  {
   "cell_type": "code",
   "execution_count": 8,
   "metadata": {
    "ExecuteTime": {
     "end_time": "2018-12-13T05:56:19.351628Z",
     "start_time": "2018-12-13T05:56:19.346455Z"
    }
   },
   "outputs": [],
   "source": [
    "algo = linear_model.LinearRegression()\n",
    "algo = ensemble.GradientBoostingRegressor()"
   ]
  },
  {
   "cell_type": "code",
   "execution_count": 9,
   "metadata": {
    "ExecuteTime": {
     "end_time": "2018-12-13T05:56:19.412305Z",
     "start_time": "2018-12-13T05:56:19.355093Z"
    }
   },
   "outputs": [
    {
     "data": {
      "text/plain": [
       "{'memory': None, 'steps': [('features', FeatureUnion(n_jobs=1,\n",
       "          transformer_list=[('med_inc', Pipeline(memory=None,\n",
       "        steps=[('selector', ColumnSelector(cols=['MedInc'], drop_axis=False)), ('scaler', StandardScaler(copy=True, with_mean=True, with_std=True))])), ('house_age', Pipeline(memory=None,\n",
       "        steps=[('selector', ColumnSelector(cols=['HouseAge'], drop...itude'], drop_axis=False)), ('scaler', StandardScaler(copy=True, with_mean=True, with_std=True))]))],\n",
       "          transformer_weights=None)),\n",
       "  ('algo',\n",
       "   GradientBoostingRegressor(alpha=0.9, criterion='friedman_mse', init=None,\n",
       "                learning_rate=0.1, loss='ls', max_depth=3, max_features=None,\n",
       "                max_leaf_nodes=None, min_impurity_decrease=0.0,\n",
       "                min_impurity_split=None, min_samples_leaf=1,\n",
       "                min_samples_split=2, min_weight_fraction_leaf=0.0,\n",
       "                n_estimators=100, presort='auto', random_state=None,\n",
       "                subsample=1.0, verbose=0, warm_start=False))], 'features': FeatureUnion(n_jobs=1,\n",
       "        transformer_list=[('med_inc', Pipeline(memory=None,\n",
       "      steps=[('selector', ColumnSelector(cols=['MedInc'], drop_axis=False)), ('scaler', StandardScaler(copy=True, with_mean=True, with_std=True))])), ('house_age', Pipeline(memory=None,\n",
       "      steps=[('selector', ColumnSelector(cols=['HouseAge'], drop...itude'], drop_axis=False)), ('scaler', StandardScaler(copy=True, with_mean=True, with_std=True))]))],\n",
       "        transformer_weights=None), 'algo': GradientBoostingRegressor(alpha=0.9, criterion='friedman_mse', init=None,\n",
       "              learning_rate=0.1, loss='ls', max_depth=3, max_features=None,\n",
       "              max_leaf_nodes=None, min_impurity_decrease=0.0,\n",
       "              min_impurity_split=None, min_samples_leaf=1,\n",
       "              min_samples_split=2, min_weight_fraction_leaf=0.0,\n",
       "              n_estimators=100, presort='auto', random_state=None,\n",
       "              subsample=1.0, verbose=0, warm_start=False), 'features__n_jobs': 1, 'features__transformer_list': [('med_inc',\n",
       "   Pipeline(memory=None,\n",
       "        steps=[('selector', ColumnSelector(cols=['MedInc'], drop_axis=False)), ('scaler', StandardScaler(copy=True, with_mean=True, with_std=True))])),\n",
       "  ('house_age', Pipeline(memory=None,\n",
       "        steps=[('selector', ColumnSelector(cols=['HouseAge'], drop_axis=False)), ('scaler', StandardScaler(copy=True, with_mean=True, with_std=True))])),\n",
       "  ('ave_rooms', Pipeline(memory=None,\n",
       "        steps=[('selector', ColumnSelector(cols=['AveRooms'], drop_axis=False)), ('scaler', StandardScaler(copy=True, with_mean=True, with_std=True))])),\n",
       "  ('ave_bedrms', Pipeline(memory=None,\n",
       "        steps=[('selector', ColumnSelector(cols=['AveBedrms'], drop_axis=False)), ('scaler', StandardScaler(copy=True, with_mean=True, with_std=True))])),\n",
       "  ('population', Pipeline(memory=None,\n",
       "        steps=[('selector', ColumnSelector(cols=['Population'], drop_axis=False)), ('scaler', StandardScaler(copy=True, with_mean=True, with_std=True))])),\n",
       "  ('ave_occup', Pipeline(memory=None,\n",
       "        steps=[('selector', ColumnSelector(cols=['AveOccup'], drop_axis=False)), ('scaler', StandardScaler(copy=True, with_mean=True, with_std=True))])),\n",
       "  ('latitude', Pipeline(memory=None,\n",
       "        steps=[('selector', ColumnSelector(cols=['Latitude'], drop_axis=False)), ('scaler', StandardScaler(copy=True, with_mean=True, with_std=True))])),\n",
       "  ('longitude', Pipeline(memory=None,\n",
       "        steps=[('selector', ColumnSelector(cols=['Longitude'], drop_axis=False)), ('scaler', StandardScaler(copy=True, with_mean=True, with_std=True))]))], 'features__transformer_weights': None, 'features__med_inc': Pipeline(memory=None,\n",
       "      steps=[('selector', ColumnSelector(cols=['MedInc'], drop_axis=False)), ('scaler', StandardScaler(copy=True, with_mean=True, with_std=True))]), 'features__house_age': Pipeline(memory=None,\n",
       "      steps=[('selector', ColumnSelector(cols=['HouseAge'], drop_axis=False)), ('scaler', StandardScaler(copy=True, with_mean=True, with_std=True))]), 'features__ave_rooms': Pipeline(memory=None,\n",
       "      steps=[('selector', ColumnSelector(cols=['AveRooms'], drop_axis=False)), ('scaler', StandardScaler(copy=True, with_mean=True, with_std=True))]), 'features__ave_bedrms': Pipeline(memory=None,\n",
       "      steps=[('selector', ColumnSelector(cols=['AveBedrms'], drop_axis=False)), ('scaler', StandardScaler(copy=True, with_mean=True, with_std=True))]), 'features__population': Pipeline(memory=None,\n",
       "      steps=[('selector', ColumnSelector(cols=['Population'], drop_axis=False)), ('scaler', StandardScaler(copy=True, with_mean=True, with_std=True))]), 'features__ave_occup': Pipeline(memory=None,\n",
       "      steps=[('selector', ColumnSelector(cols=['AveOccup'], drop_axis=False)), ('scaler', StandardScaler(copy=True, with_mean=True, with_std=True))]), 'features__latitude': Pipeline(memory=None,\n",
       "      steps=[('selector', ColumnSelector(cols=['Latitude'], drop_axis=False)), ('scaler', StandardScaler(copy=True, with_mean=True, with_std=True))]), 'features__longitude': Pipeline(memory=None,\n",
       "      steps=[('selector', ColumnSelector(cols=['Longitude'], drop_axis=False)), ('scaler', StandardScaler(copy=True, with_mean=True, with_std=True))]), 'features__med_inc__memory': None, 'features__med_inc__steps': [('selector',\n",
       "   ColumnSelector(cols=['MedInc'], drop_axis=False)),\n",
       "  ('scaler',\n",
       "   StandardScaler(copy=True, with_mean=True, with_std=True))], 'features__med_inc__selector': ColumnSelector(cols=['MedInc'], drop_axis=False), 'features__med_inc__scaler': StandardScaler(copy=True, with_mean=True, with_std=True), 'features__med_inc__selector__cols': ['MedInc'], 'features__med_inc__selector__drop_axis': False, 'features__med_inc__scaler__copy': True, 'features__med_inc__scaler__with_mean': True, 'features__med_inc__scaler__with_std': True, 'features__house_age__memory': None, 'features__house_age__steps': [('selector',\n",
       "   ColumnSelector(cols=['HouseAge'], drop_axis=False)),\n",
       "  ('scaler',\n",
       "   StandardScaler(copy=True, with_mean=True, with_std=True))], 'features__house_age__selector': ColumnSelector(cols=['HouseAge'], drop_axis=False), 'features__house_age__scaler': StandardScaler(copy=True, with_mean=True, with_std=True), 'features__house_age__selector__cols': ['HouseAge'], 'features__house_age__selector__drop_axis': False, 'features__house_age__scaler__copy': True, 'features__house_age__scaler__with_mean': True, 'features__house_age__scaler__with_std': True, 'features__ave_rooms__memory': None, 'features__ave_rooms__steps': [('selector',\n",
       "   ColumnSelector(cols=['AveRooms'], drop_axis=False)),\n",
       "  ('scaler',\n",
       "   StandardScaler(copy=True, with_mean=True, with_std=True))], 'features__ave_rooms__selector': ColumnSelector(cols=['AveRooms'], drop_axis=False), 'features__ave_rooms__scaler': StandardScaler(copy=True, with_mean=True, with_std=True), 'features__ave_rooms__selector__cols': ['AveRooms'], 'features__ave_rooms__selector__drop_axis': False, 'features__ave_rooms__scaler__copy': True, 'features__ave_rooms__scaler__with_mean': True, 'features__ave_rooms__scaler__with_std': True, 'features__ave_bedrms__memory': None, 'features__ave_bedrms__steps': [('selector',\n",
       "   ColumnSelector(cols=['AveBedrms'], drop_axis=False)),\n",
       "  ('scaler',\n",
       "   StandardScaler(copy=True, with_mean=True, with_std=True))], 'features__ave_bedrms__selector': ColumnSelector(cols=['AveBedrms'], drop_axis=False), 'features__ave_bedrms__scaler': StandardScaler(copy=True, with_mean=True, with_std=True), 'features__ave_bedrms__selector__cols': ['AveBedrms'], 'features__ave_bedrms__selector__drop_axis': False, 'features__ave_bedrms__scaler__copy': True, 'features__ave_bedrms__scaler__with_mean': True, 'features__ave_bedrms__scaler__with_std': True, 'features__population__memory': None, 'features__population__steps': [('selector',\n",
       "   ColumnSelector(cols=['Population'], drop_axis=False)),\n",
       "  ('scaler',\n",
       "   StandardScaler(copy=True, with_mean=True, with_std=True))], 'features__population__selector': ColumnSelector(cols=['Population'], drop_axis=False), 'features__population__scaler': StandardScaler(copy=True, with_mean=True, with_std=True), 'features__population__selector__cols': ['Population'], 'features__population__selector__drop_axis': False, 'features__population__scaler__copy': True, 'features__population__scaler__with_mean': True, 'features__population__scaler__with_std': True, 'features__ave_occup__memory': None, 'features__ave_occup__steps': [('selector',\n",
       "   ColumnSelector(cols=['AveOccup'], drop_axis=False)),\n",
       "  ('scaler',\n",
       "   StandardScaler(copy=True, with_mean=True, with_std=True))], 'features__ave_occup__selector': ColumnSelector(cols=['AveOccup'], drop_axis=False), 'features__ave_occup__scaler': StandardScaler(copy=True, with_mean=True, with_std=True), 'features__ave_occup__selector__cols': ['AveOccup'], 'features__ave_occup__selector__drop_axis': False, 'features__ave_occup__scaler__copy': True, 'features__ave_occup__scaler__with_mean': True, 'features__ave_occup__scaler__with_std': True, 'features__latitude__memory': None, 'features__latitude__steps': [('selector',\n",
       "   ColumnSelector(cols=['Latitude'], drop_axis=False)),\n",
       "  ('scaler',\n",
       "   StandardScaler(copy=True, with_mean=True, with_std=True))], 'features__latitude__selector': ColumnSelector(cols=['Latitude'], drop_axis=False), 'features__latitude__scaler': StandardScaler(copy=True, with_mean=True, with_std=True), 'features__latitude__selector__cols': ['Latitude'], 'features__latitude__selector__drop_axis': False, 'features__latitude__scaler__copy': True, 'features__latitude__scaler__with_mean': True, 'features__latitude__scaler__with_std': True, 'features__longitude__memory': None, 'features__longitude__steps': [('selector',\n",
       "   ColumnSelector(cols=['Longitude'], drop_axis=False)),\n",
       "  ('scaler',\n",
       "   StandardScaler(copy=True, with_mean=True, with_std=True))], 'features__longitude__selector': ColumnSelector(cols=['Longitude'], drop_axis=False), 'features__longitude__scaler': StandardScaler(copy=True, with_mean=True, with_std=True), 'features__longitude__selector__cols': ['Longitude'], 'features__longitude__selector__drop_axis': False, 'features__longitude__scaler__copy': True, 'features__longitude__scaler__with_mean': True, 'features__longitude__scaler__with_std': True, 'algo__alpha': 0.9, 'algo__criterion': 'friedman_mse', 'algo__init': None, 'algo__learning_rate': 0.1, 'algo__loss': 'ls', 'algo__max_depth': 3, 'algo__max_features': None, 'algo__max_leaf_nodes': None, 'algo__min_impurity_decrease': 0.0, 'algo__min_impurity_split': None, 'algo__min_samples_leaf': 1, 'algo__min_samples_split': 2, 'algo__min_weight_fraction_leaf': 0.0, 'algo__n_estimators': 100, 'algo__presort': 'auto', 'algo__random_state': None, 'algo__subsample': 1.0, 'algo__verbose': 0, 'algo__warm_start': False}"
      ]
     },
     "execution_count": 9,
     "metadata": {},
     "output_type": "execute_result"
    }
   ],
   "source": [
    "pipeline = Pipeline([\n",
    "    ('features', features),\n",
    "    ('algo', algo),\n",
    "])\n",
    "pipeline.get_params()"
   ]
  },
  {
   "cell_type": "code",
   "execution_count": 10,
   "metadata": {
    "ExecuteTime": {
     "end_time": "2018-12-13T05:56:20.440685Z",
     "start_time": "2018-12-13T05:56:19.416672Z"
    }
   },
   "outputs": [
    {
     "data": {
      "text/plain": [
       "Pipeline(memory=None,\n",
       "     steps=[('features', FeatureUnion(n_jobs=1,\n",
       "       transformer_list=[('med_inc', Pipeline(memory=None,\n",
       "     steps=[('selector', ColumnSelector(cols=['MedInc'], drop_axis=False)), ('scaler', StandardScaler(copy=True, with_mean=True, with_std=True))])), ('house_age', Pipeline(memory=None,\n",
       "     steps=[(...s=100, presort='auto', random_state=None,\n",
       "             subsample=1.0, verbose=0, warm_start=False))])"
      ]
     },
     "execution_count": 10,
     "metadata": {},
     "output_type": "execute_result"
    }
   ],
   "source": [
    "pipeline.fit(train_X, train_y)"
   ]
  },
  {
   "cell_type": "code",
   "execution_count": 11,
   "metadata": {
    "ExecuteTime": {
     "end_time": "2018-12-13T05:56:20.487910Z",
     "start_time": "2018-12-13T05:56:20.443743Z"
    }
   },
   "outputs": [
    {
     "data": {
      "text/plain": [
       "0.2881289005799861"
      ]
     },
     "execution_count": 11,
     "metadata": {},
     "output_type": "execute_result"
    }
   ],
   "source": [
    "predictions = pipeline.predict(test_X)\n",
    "metrics.mean_squared_error(test_y, predictions)"
   ]
  },
  {
   "cell_type": "code",
   "execution_count": 12,
   "metadata": {
    "ExecuteTime": {
     "end_time": "2018-12-13T05:56:20.501482Z",
     "start_time": "2018-12-13T05:56:20.491701Z"
    }
   },
   "outputs": [],
   "source": [
    "params = {\n",
    "    \"algo__alpha\": [0.01, 1],\n",
    "    'algo__n_estimators': [10, 1000],\n",
    "}\n",
    "cv = BayesSearchCV(pipeline, params, cv=5, n_jobs=-1, verbose=2, n_iter=10)"
   ]
  },
  {
   "cell_type": "code",
   "execution_count": 13,
   "metadata": {
    "ExecuteTime": {
     "end_time": "2018-12-13T05:58:27.589567Z",
     "start_time": "2018-12-13T05:56:20.503738Z"
    },
    "scrolled": true
   },
   "outputs": [
    {
     "name": "stdout",
     "output_type": "stream",
     "text": [
      "Fitting 5 folds for each of 1 candidates, totalling 5 fits\n",
      "[CV] algo__alpha=0.767458778270336, algo__n_estimators=769 ...........\n",
      "[CV] algo__alpha=0.767458778270336, algo__n_estimators=769 ...........\n",
      "[CV] algo__alpha=0.767458778270336, algo__n_estimators=769 ...........\n",
      "[CV] algo__alpha=0.767458778270336, algo__n_estimators=769 ...........\n",
      "[CV]  algo__alpha=0.767458778270336, algo__n_estimators=769, total=  11.2s\n",
      "[CV] algo__alpha=0.767458778270336, algo__n_estimators=769 ...........\n",
      "[CV]  algo__alpha=0.767458778270336, algo__n_estimators=769, total=  11.1s\n",
      "[CV]  algo__alpha=0.767458778270336, algo__n_estimators=769, total=  11.3s\n",
      "[CV]  algo__alpha=0.767458778270336, algo__n_estimators=769, total=  11.4s\n",
      "[CV]  algo__alpha=0.767458778270336, algo__n_estimators=769, total=   5.7s\n",
      "Fitting 5 folds for each of 1 candidates, totalling 5 fits\n"
     ]
    },
    {
     "name": "stderr",
     "output_type": "stream",
     "text": [
      "[Parallel(n_jobs=-1)]: Done   5 out of   5 | elapsed:   17.0s finished\n"
     ]
    },
    {
     "name": "stdout",
     "output_type": "stream",
     "text": [
      "[CV] algo__alpha=0.7678180168946732, algo__n_estimators=953 ..........\n",
      "[CV] algo__alpha=0.7678180168946732, algo__n_estimators=953 ..........\n",
      "[CV] algo__alpha=0.7678180168946732, algo__n_estimators=953 ..........\n",
      "[CV] algo__alpha=0.7678180168946732, algo__n_estimators=953 ..........\n",
      "[CV]  algo__alpha=0.7678180168946732, algo__n_estimators=953, total=  13.1s\n",
      "[CV] algo__alpha=0.7678180168946732, algo__n_estimators=953 ..........\n",
      "[CV]  algo__alpha=0.7678180168946732, algo__n_estimators=953, total=  13.2s\n",
      "[CV]  algo__alpha=0.7678180168946732, algo__n_estimators=953, total=  13.2s\n",
      "[CV]  algo__alpha=0.7678180168946732, algo__n_estimators=953, total=  13.3s\n",
      "[CV]  algo__alpha=0.7678180168946732, algo__n_estimators=953, total=   7.1s\n",
      "Fitting 5 folds for each of 1 candidates, totalling 5 fits\n"
     ]
    },
    {
     "name": "stderr",
     "output_type": "stream",
     "text": [
      "[Parallel(n_jobs=-1)]: Done   5 out of   5 | elapsed:   20.4s finished\n"
     ]
    },
    {
     "name": "stdout",
     "output_type": "stream",
     "text": [
      "[CV] algo__alpha=0.20339710153737395, algo__n_estimators=569 .........\n",
      "[CV] algo__alpha=0.20339710153737395, algo__n_estimators=569 .........\n",
      "[CV] algo__alpha=0.20339710153737395, algo__n_estimators=569 .........\n",
      "[CV] algo__alpha=0.20339710153737395, algo__n_estimators=569 .........\n",
      "[CV]  algo__alpha=0.20339710153737395, algo__n_estimators=569, total=   8.7s\n",
      "[CV] algo__alpha=0.20339710153737395, algo__n_estimators=569 .........\n",
      "[CV]  algo__alpha=0.20339710153737395, algo__n_estimators=569, total=   8.9s\n",
      "[CV]  algo__alpha=0.20339710153737395, algo__n_estimators=569, total=   8.9s\n",
      "[CV]  algo__alpha=0.20339710153737395, algo__n_estimators=569, total=   8.9s\n",
      "[CV]  algo__alpha=0.20339710153737395, algo__n_estimators=569, total=   4.4s\n",
      "Fitting 5 folds for each of 1 candidates, totalling 5 fits\n"
     ]
    },
    {
     "name": "stderr",
     "output_type": "stream",
     "text": [
      "[Parallel(n_jobs=-1)]: Done   5 out of   5 | elapsed:   13.2s finished\n"
     ]
    },
    {
     "name": "stdout",
     "output_type": "stream",
     "text": [
      "[CV] algo__alpha=0.21814637471597098, algo__n_estimators=728 .........\n",
      "[CV] algo__alpha=0.21814637471597098, algo__n_estimators=728 .........\n",
      "[CV] algo__alpha=0.21814637471597098, algo__n_estimators=728 .........\n",
      "[CV] algo__alpha=0.21814637471597098, algo__n_estimators=728 .........\n",
      "[CV]  algo__alpha=0.21814637471597098, algo__n_estimators=728, total=  11.6s\n",
      "[CV] algo__alpha=0.21814637471597098, algo__n_estimators=728 .........\n",
      "[CV]  algo__alpha=0.21814637471597098, algo__n_estimators=728, total=  11.6s\n",
      "[CV]  algo__alpha=0.21814637471597098, algo__n_estimators=728, total=  11.8s\n",
      "[CV]  algo__alpha=0.21814637471597098, algo__n_estimators=728, total=  11.8s\n",
      "[CV]  algo__alpha=0.21814637471597098, algo__n_estimators=728, total=   6.1s\n",
      "Fitting 5 folds for each of 1 candidates, totalling 5 fits\n"
     ]
    },
    {
     "name": "stderr",
     "output_type": "stream",
     "text": [
      "[Parallel(n_jobs=-1)]: Done   5 out of   5 | elapsed:   17.9s finished\n"
     ]
    },
    {
     "name": "stdout",
     "output_type": "stream",
     "text": [
      "[CV] algo__alpha=0.08827980449943333, algo__n_estimators=248 .........\n",
      "[CV] algo__alpha=0.08827980449943333, algo__n_estimators=248 .........\n",
      "[CV] algo__alpha=0.08827980449943333, algo__n_estimators=248 .........\n",
      "[CV] algo__alpha=0.08827980449943333, algo__n_estimators=248 .........\n",
      "[CV]  algo__alpha=0.08827980449943333, algo__n_estimators=248, total=   3.6s\n",
      "[CV] algo__alpha=0.08827980449943333, algo__n_estimators=248 .........\n",
      "[CV]  algo__alpha=0.08827980449943333, algo__n_estimators=248, total=   3.6s\n",
      "[CV]  algo__alpha=0.08827980449943333, algo__n_estimators=248, total=   3.7s\n",
      "[CV]  algo__alpha=0.08827980449943333, algo__n_estimators=248, total=   3.8s\n",
      "[CV]  algo__alpha=0.08827980449943333, algo__n_estimators=248, total=   3.6s\n"
     ]
    },
    {
     "name": "stderr",
     "output_type": "stream",
     "text": [
      "[Parallel(n_jobs=-1)]: Done   5 out of   5 | elapsed:    7.3s finished\n"
     ]
    },
    {
     "name": "stdout",
     "output_type": "stream",
     "text": [
      "Fitting 5 folds for each of 1 candidates, totalling 5 fits\n",
      "[CV] algo__alpha=0.5551634207625608, algo__n_estimators=274 ..........\n",
      "[CV] algo__alpha=0.5551634207625608, algo__n_estimators=274 ..........\n",
      "[CV] algo__alpha=0.5551634207625608, algo__n_estimators=274 ..........\n",
      "[CV] algo__alpha=0.5551634207625608, algo__n_estimators=274 ..........\n",
      "[CV]  algo__alpha=0.5551634207625608, algo__n_estimators=274, total=   5.9s\n",
      "[CV] algo__alpha=0.5551634207625608, algo__n_estimators=274 ..........\n",
      "[CV]  algo__alpha=0.5551634207625608, algo__n_estimators=274, total=   5.9s\n",
      "[CV]  algo__alpha=0.5551634207625608, algo__n_estimators=274, total=   6.0s\n",
      "[CV]  algo__alpha=0.5551634207625608, algo__n_estimators=274, total=   6.1s\n",
      "[CV]  algo__alpha=0.5551634207625608, algo__n_estimators=274, total=   2.0s\n",
      "Fitting 5 folds for each of 1 candidates, totalling 5 fits\n"
     ]
    },
    {
     "name": "stderr",
     "output_type": "stream",
     "text": [
      "[Parallel(n_jobs=-1)]: Done   5 out of   5 | elapsed:    8.1s finished\n"
     ]
    },
    {
     "name": "stdout",
     "output_type": "stream",
     "text": [
      "[CV] algo__alpha=0.2860586862819768, algo__n_estimators=40 ...........\n",
      "[CV] algo__alpha=0.2860586862819768, algo__n_estimators=40 ...........\n",
      "[CV] algo__alpha=0.2860586862819768, algo__n_estimators=40 ...........\n",
      "[CV] algo__alpha=0.2860586862819768, algo__n_estimators=40 ...........\n",
      "[CV]  algo__alpha=0.2860586862819768, algo__n_estimators=40, total=   0.8s\n",
      "[CV]  algo__alpha=0.2860586862819768, algo__n_estimators=40, total=   0.7s\n",
      "[CV]  algo__alpha=0.2860586862819768, algo__n_estimators=40, total=   0.8s\n",
      "[CV] algo__alpha=0.2860586862819768, algo__n_estimators=40 ...........\n",
      "[CV]  algo__alpha=0.2860586862819768, algo__n_estimators=40, total=   0.8s\n",
      "[CV]  algo__alpha=0.2860586862819768, algo__n_estimators=40, total=   0.4s\n",
      "Fitting 5 folds for each of 1 candidates, totalling 5 fits\n"
     ]
    },
    {
     "name": "stderr",
     "output_type": "stream",
     "text": [
      "[Parallel(n_jobs=-1)]: Done   5 out of   5 | elapsed:    1.3s finished\n"
     ]
    },
    {
     "name": "stdout",
     "output_type": "stream",
     "text": [
      "[CV] algo__alpha=0.8308319668921218, algo__n_estimators=470 ..........\n",
      "[CV] algo__alpha=0.8308319668921218, algo__n_estimators=470 ..........\n",
      "[CV] algo__alpha=0.8308319668921218, algo__n_estimators=470 ..........\n",
      "[CV] algo__alpha=0.8308319668921218, algo__n_estimators=470 ..........\n",
      "[CV]  algo__alpha=0.8308319668921218, algo__n_estimators=470, total=   7.4s\n",
      "[CV] algo__alpha=0.8308319668921218, algo__n_estimators=470 ..........\n",
      "[CV]  algo__alpha=0.8308319668921218, algo__n_estimators=470, total=   7.5s\n",
      "[CV]  algo__alpha=0.8308319668921218, algo__n_estimators=470, total=   7.6s\n",
      "[CV]  algo__alpha=0.8308319668921218, algo__n_estimators=470, total=   7.6s\n",
      "[CV]  algo__alpha=0.8308319668921218, algo__n_estimators=470, total=   3.6s\n",
      "Fitting 5 folds for each of 1 candidates, totalling 5 fits\n"
     ]
    },
    {
     "name": "stderr",
     "output_type": "stream",
     "text": [
      "[Parallel(n_jobs=-1)]: Done   5 out of   5 | elapsed:   11.2s finished\n"
     ]
    },
    {
     "name": "stdout",
     "output_type": "stream",
     "text": [
      "[CV] algo__alpha=0.7378867409172963, algo__n_estimators=394 ..........\n",
      "[CV] algo__alpha=0.7378867409172963, algo__n_estimators=394 ..........\n",
      "[CV] algo__alpha=0.7378867409172963, algo__n_estimators=394 ..........\n",
      "[CV] algo__alpha=0.7378867409172963, algo__n_estimators=394 ..........\n",
      "[CV]  algo__alpha=0.7378867409172963, algo__n_estimators=394, total=   5.7s\n",
      "[CV] algo__alpha=0.7378867409172963, algo__n_estimators=394 ..........\n",
      "[CV]  algo__alpha=0.7378867409172963, algo__n_estimators=394, total=   5.7s\n",
      "[CV]  algo__alpha=0.7378867409172963, algo__n_estimators=394, total=   5.9s\n",
      "[CV]  algo__alpha=0.7378867409172963, algo__n_estimators=394, total=   5.8s\n",
      "[CV]  algo__alpha=0.7378867409172963, algo__n_estimators=394, total=   3.1s\n"
     ]
    },
    {
     "name": "stderr",
     "output_type": "stream",
     "text": [
      "[Parallel(n_jobs=-1)]: Done   5 out of   5 | elapsed:    8.9s finished\n"
     ]
    },
    {
     "name": "stdout",
     "output_type": "stream",
     "text": [
      "Fitting 5 folds for each of 1 candidates, totalling 5 fits\n",
      "[CV] algo__alpha=0.2500256720607585, algo__n_estimators=431 ..........\n",
      "[CV] algo__alpha=0.2500256720607585, algo__n_estimators=431 ..........\n",
      "[CV] algo__alpha=0.2500256720607585, algo__n_estimators=431 ..........\n",
      "[CV] algo__alpha=0.2500256720607585, algo__n_estimators=431 ..........\n",
      "[CV]  algo__alpha=0.2500256720607585, algo__n_estimators=431, total=   6.3s\n",
      "[CV] algo__alpha=0.2500256720607585, algo__n_estimators=431 ..........\n",
      "[CV]  algo__alpha=0.2500256720607585, algo__n_estimators=431, total=   6.4s\n",
      "[CV]  algo__alpha=0.2500256720607585, algo__n_estimators=431, total=   6.4s\n",
      "[CV]  algo__alpha=0.2500256720607585, algo__n_estimators=431, total=   6.4s\n",
      "[CV]  algo__alpha=0.2500256720607585, algo__n_estimators=431, total=   3.4s\n"
     ]
    },
    {
     "name": "stderr",
     "output_type": "stream",
     "text": [
      "[Parallel(n_jobs=-1)]: Done   5 out of   5 | elapsed:    9.8s finished\n"
     ]
    },
    {
     "data": {
      "text/plain": [
       "BayesSearchCV(cv=5, error_score='raise',\n",
       "       estimator=Pipeline(memory=None,\n",
       "     steps=[('features', FeatureUnion(n_jobs=1,\n",
       "       transformer_list=[('med_inc', Pipeline(memory=None,\n",
       "     steps=[('selector', ColumnSelector(cols=['MedInc'], drop_axis=False)), ('scaler', StandardScaler(copy=True, with_mean=True, with_std=True))])), ('house_age', Pipeline(memory=None,\n",
       "     steps=[(...s=100, presort='auto', random_state=None,\n",
       "             subsample=1.0, verbose=0, warm_start=False))]),\n",
       "       fit_params=None, iid=True, n_iter=10, n_jobs=-1, n_points=1,\n",
       "       optimizer_kwargs=None, pre_dispatch='2*n_jobs', random_state=None,\n",
       "       refit=True, return_train_score=False, scoring=None,\n",
       "       search_spaces={'algo__alpha': [0.01, 1], 'algo__n_estimators': [10, 1000]},\n",
       "       verbose=2)"
      ]
     },
     "execution_count": 13,
     "metadata": {},
     "output_type": "execute_result"
    }
   ],
   "source": [
    "cv.fit(train_X, train_y)"
   ]
  },
  {
   "cell_type": "code",
   "execution_count": 14,
   "metadata": {
    "ExecuteTime": {
     "end_time": "2018-12-13T05:58:27.784942Z",
     "start_time": "2018-12-13T05:58:27.593702Z"
    }
   },
   "outputs": [
    {
     "name": "stdout",
     "output_type": "stream",
     "text": [
      "{'algo__alpha': 0.7678180168946732, 'algo__n_estimators': 953}\n",
      "0.8260185648433542\n",
      "0.23335393356090664\n"
     ]
    }
   ],
   "source": [
    "best_estimator = cv.best_estimator_\n",
    "predictions = best_estimator.predict(test_X)\n",
    "\n",
    "print(cv.best_params_)\n",
    "print(cv.best_score_)\n",
    "print(metrics.mean_squared_error(test_y, predictions))"
   ]
  },
  {
   "cell_type": "code",
   "execution_count": null,
   "metadata": {},
   "outputs": [],
   "source": []
  }
 ],
 "metadata": {
  "kernelspec": {
   "display_name": "Python 3",
   "language": "python",
   "name": "python3"
  },
  "language_info": {
   "codemirror_mode": {
    "name": "ipython",
    "version": 3
   },
   "file_extension": ".py",
   "mimetype": "text/x-python",
   "name": "python",
   "nbconvert_exporter": "python",
   "pygments_lexer": "ipython3",
   "version": "3.6.7"
  }
 },
 "nbformat": 4,
 "nbformat_minor": 2
}
